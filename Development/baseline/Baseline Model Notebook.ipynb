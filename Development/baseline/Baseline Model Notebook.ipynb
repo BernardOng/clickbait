{
 "cells": [
  {
   "cell_type": "markdown",
   "metadata": {},
   "source": [
    "# Baseline Model"
   ]
  },
  {
   "cell_type": "code",
   "execution_count": 23,
   "metadata": {
    "collapsed": false
   },
   "outputs": [],
   "source": [
    "from __future__ import print_function\n",
    "import sys\n",
    "import string\n",
    "import numpy as np\n",
    "from nltk import word_tokenize\n",
    "from nltk.tag import pos_tag_sents\n",
    "from imblearn.over_sampling import SMOTE\n",
    "from sklearn.naive_bayes import GaussianNB\n",
    "from sklearn.model_selection import KFold, StratifiedKFold\n",
    "\n",
    "from sklearn import metrics as met\n",
    "\n",
    "sys.path.append('..')\n",
    "from text2num import text2num\n",
    "from util.load_data import JSONData\n",
    "from util.scores import ScoreReport\n",
    "\n",
    "import warnings\n",
    "warnings.filterwarnings(\"ignore\")"
   ]
  },
  {
   "cell_type": "markdown",
   "metadata": {},
   "source": [
    "**Constants & Parameters**"
   ]
  },
  {
   "cell_type": "code",
   "execution_count": 3,
   "metadata": {
    "collapsed": true
   },
   "outputs": [],
   "source": [
    "''' Constants and Parameters '''\n",
    "DATA_ROOT = '../../Data/dataset/'       # Root Folder of where Dataset Resides\n",
    "MODEL_ROOT = '../../Models/dataset/'    # Root Folder of where Model Resides\n",
    "K_FOLD = 10\n",
    "SHUFFLE_FOLDS = True\n",
    "np.random.seed(9892)                    # Seed Parameter for PRNG"
   ]
  },
  {
   "cell_type": "markdown",
   "metadata": {},
   "source": [
    "**Import and Load Data**"
   ]
  },
  {
   "cell_type": "code",
   "execution_count": 4,
   "metadata": {
    "collapsed": true
   },
   "outputs": [],
   "source": [
    "''' Import Data '''\n",
    "# Load Dataset\n",
    "data_load = JSONData(DATA_ROOT+'instances_train.jsonl', DATA_ROOT+'truth_train.jsonl', DATA_ROOT+'instances_test.jsonl')\n",
    "train_X = data_load.load_train_X()\n",
    "train_Y = data_load.load_train_Y()"
   ]
  },
  {
   "cell_type": "markdown",
   "metadata": {},
   "source": [
    "### Data Preprocessing & Feature Engineering"
   ]
  },
  {
   "cell_type": "code",
   "execution_count": 5,
   "metadata": {
    "collapsed": true
   },
   "outputs": [],
   "source": [
    "def is_numeric(text):\n",
    "    try: return type(text2num(text)) == type(0)\n",
    "    except Exception as e: return False\n",
    "\n",
    "def preprocess(text):\n",
    "    text = word_tokenize(text.lower())                                      # Tokenize & Normalize Text\n",
    "    text = filter(lambda x: x not in string.punctuation, text)              # Remove Punctuation\n",
    "\n",
    "    # Perform Feature Extraction\n",
    "    word_count = len(text)                                                  # Total Word Count\n",
    "    avg_word_len = sum(map(lambda x: len(x), text))/float(len(text))        # Average Word Length\n",
    "    max_word_len = max(map(lambda x: len(x), text))                         # Longest Word Length\n",
    "    is_number = text[0].isdigit() or is_numeric(text[0])                    # Check if starts with number (Either Numerically or Linguistically)\n",
    "    start_ws = text[0] in ['who', 'what', 'why', 'where', 'when', 'how']    # Whether it starts with question word\n",
    "\n",
    "    return [word_count, avg_word_len, max_word_len, int(is_number), int(start_ws)]"
   ]
  },
  {
   "cell_type": "code",
   "execution_count": 6,
   "metadata": {
    "collapsed": true
   },
   "outputs": [],
   "source": [
    "# Finalize Feature and Target Vectors\n",
    "X = np.array(map(lambda x: preprocess(x['targetTitle']), train_X))\n",
    "Y = np.array(map(lambda x: [0] if x['truthClass'] == 'no-clickbait' else [1], train_Y))\n",
    "Y_ = np.array(map(lambda x: 0 if x['truthClass'] == 'no-clickbait' else 1, train_Y))"
   ]
  },
  {
   "cell_type": "markdown",
   "metadata": {},
   "source": [
    "### Train Model"
   ]
  },
  {
   "cell_type": "code",
   "execution_count": 21,
   "metadata": {
    "collapsed": true
   },
   "outputs": [],
   "source": [
    "# Alternative Score Reporting Function\n",
    "def report_score(y_true, y_pred, y_prob):\n",
    "    print(\"Mean squared error: \" + str(met.mean_squared_error(y_true, y_pred)))\n",
    "    print(\"R^2: \" + str(met.r2_score(y_true, y_pred)))\n",
    "    print()"
   ]
  },
  {
   "cell_type": "code",
   "execution_count": 22,
   "metadata": {
    "collapsed": false
   },
   "outputs": [
    {
     "name": "stdout",
     "output_type": "stream",
     "text": [
      "Training Model...\n",
      "\n",
      "[K = 1]\n",
      "Mean squared error: 0.274587833997\n",
      "R^2: -0.455138218066\n",
      "\n",
      "\n",
      "[K = 2]\n",
      "Mean squared error: 0.281978396816\n",
      "R^2: -0.494303428904\n",
      "\n",
      "\n",
      "[K = 3]\n",
      "Mean squared error: 0.295054007959\n",
      "R^2: -0.563595725003\n",
      "\n",
      "\n",
      "[K = 4]\n",
      "Mean squared error: 0.294084186576\n",
      "R^2: -0.560198782927\n",
      "\n",
      "\n",
      "[K = 5]\n",
      "Mean squared error: 0.287827076223\n",
      "R^2: -0.527003064141\n",
      "\n",
      "\n",
      "[K = 6]\n",
      "Mean squared error: 0.289533560865\n",
      "R^2: -0.536056441992\n",
      "\n",
      "\n",
      "[K = 7]\n",
      "Mean squared error: 0.301478953356\n",
      "R^2: -0.599430086946\n",
      "\n",
      "\n",
      "[K = 8]\n",
      "Mean squared error: 0.270193401593\n",
      "R^2: -0.433451493018\n",
      "\n",
      "\n",
      "[K = 9]\n",
      "Mean squared error: 0.269208878771\n",
      "R^2: -0.427689648893\n",
      "\n",
      "\n",
      "[K = 10]\n",
      "Mean squared error: 0.293682413204\n",
      "R^2: -0.557479616974\n",
      "\n"
     ]
    }
   ],
   "source": [
    "# K-Fold and Score Tracking\n",
    "kf = StratifiedKFold(n_splits=K_FOLD, shuffle=SHUFFLE_FOLDS)\n",
    "\n",
    "print('Training Model...')\n",
    "for i, (train_idx, test_idx) in enumerate(kf.split(X, Y_)):\n",
    "    print('\\n[K = ' + str(i+1) + ']')\n",
    "    ''' SMOTE - Generate Synthetic Data '''\n",
    "    # sm = SMOTE(kind='regular')\n",
    "    # X_resampled = []\n",
    "    # X_res, Y_res = sm.fit_sample(X[train_idx], Y[train_idx])\n",
    "\n",
    "    # Train Model\n",
    "    gnb = GaussianNB()\n",
    "    gnb.fit(X[train_idx], Y[train_idx])\n",
    "\n",
    "    # Generate Predictions & Confidence Estimates\n",
    "    y_pred = gnb.predict(X[test_idx])\n",
    "    y_prob = gnb.predict_proba(X[test_idx])\n",
    "    y_prob = map(lambda x: x[1][x[0]], zip(y_pred, y_prob))\n",
    "    \n",
    "    # Append to Report\n",
    "    # report.append_result(Y[test_idx].reshape(y_pred.shape), y_pred, y_prob)\n",
    "    \n",
    "    # Alternative Score Reporting\n",
    "    report_score(Y[test_idx].reshape(y_pred.shape), y_pred, y_prob)"
   ]
  }
 ],
 "metadata": {
  "kernelspec": {
   "display_name": "Python 2",
   "language": "python",
   "name": "python2"
  },
  "language_info": {
   "codemirror_mode": {
    "name": "ipython",
    "version": 2
   },
   "file_extension": ".py",
   "mimetype": "text/x-python",
   "name": "python",
   "nbconvert_exporter": "python",
   "pygments_lexer": "ipython2",
   "version": "2.7.5"
  }
 },
 "nbformat": 4,
 "nbformat_minor": 1
}
